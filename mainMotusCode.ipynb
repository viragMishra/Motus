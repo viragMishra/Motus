{
 "cells": [
  {
   "cell_type": "code",
   "execution_count": 4,
   "metadata": {},
   "outputs": [],
   "source": [
    "%reset -f"
   ]
  },
  {
   "cell_type": "code",
   "execution_count": 5,
   "metadata": {},
   "outputs": [],
   "source": [
    "import re\n",
    "import os\n",
    "import itertools\n",
    "import math\n",
    "import numpy as np\n",
    "import scipy\n",
    "import matplotlib.pyplot as plt\n",
    "from scipy.interpolate import interp1d\n",
    "# %matplotlib inline"
   ]
  },
  {
   "cell_type": "code",
   "execution_count": 8,
   "metadata": {},
   "outputs": [],
   "source": [
    "class fileProcess:\n",
    "    def __init__(self,yawAngle,lineType):\n",
    "        '''\n",
    "        Input-yawAngle,lineType\n",
    "        Functions-accessData, cleanData, getData\n",
    "        Details-Has functions related to browsing folders and accessing data\n",
    "        '''\n",
    "        self.yawAngle = str(yawAngle)\n",
    "        self.lineType = str(lineType) \n",
    "        \n",
    "    def accessFile(self):\n",
    "        '''\n",
    "        Input-As in class fileProcess\n",
    "        OutPut-Files in the paraType and corresponding folder path\n",
    "        Details-time is normalized with time period of bodies oscillation, \n",
    "        '''\n",
    "        path = os.path.abspath('.')\n",
    "        print path\n",
    "#         if (self.testType == 'staticTest'):\n",
    "#             targetList = [self.testType,self.sparType]\n",
    "#         else:\n",
    "#             targetList = [self.testType,self.sparType,self.rType]\n",
    "#         for i in range(0,len(targetList)):\n",
    "#             path = os.path.join(path,targetList[i])\n",
    "#             fList = os.walk(path).next()[2]\n",
    "#             if (np.size(fList) != 0):\n",
    "#                 for j in range(len(fList)):\n",
    "#                     if (fList[j] == 'forces.txt' or fList[j] == 'height.txt'):\n",
    "#                         filePath = path\n",
    "#                         fileList = fList\n",
    "#         path,fList = None, None\n",
    "        return[]"
   ]
  },
  {
   "cell_type": "code",
   "execution_count": 9,
   "metadata": {},
   "outputs": [
    {
     "name": "stdout",
     "output_type": "stream",
     "text": [
      "/home/virag\n"
     ]
    }
   ],
   "source": [
    "def main():\n",
    "    data = fileProcess(yawAngle='0',lineType='A')\n",
    "    [] = fileProcess.accessFile(data)\n",
    "    \n",
    "if __name__ == \"__main__\":\n",
    "    main()   "
   ]
  },
  {
   "cell_type": "code",
   "execution_count": null,
   "metadata": {},
   "outputs": [],
   "source": []
  }
 ],
 "metadata": {
  "kernelspec": {
   "display_name": "Python 2",
   "language": "python",
   "name": "python2"
  },
  "language_info": {
   "codemirror_mode": {
    "name": "ipython",
    "version": 2
   },
   "file_extension": ".py",
   "mimetype": "text/x-python",
   "name": "python",
   "nbconvert_exporter": "python",
   "pygments_lexer": "ipython2",
   "version": "2.7.15"
  }
 },
 "nbformat": 4,
 "nbformat_minor": 2
}
